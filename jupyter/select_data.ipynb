{
 "cells": [
  {
   "cell_type": "code",
   "execution_count": 30,
   "metadata": {},
   "outputs": [],
   "source": [
    "import pandas as pd\n",
    "\n",
    "df = pd.read_csv('/Users/kylinmao/Desktop/the_new_restaurant.csv')\n",
    "newdf = pd.DataFrame(columns = ['ID','DBA', 'BUILDING','STREET','ZIPCODE','PHONE','LATITUDE','LONGITUDE','CUISINE','BORO']) \n",
    "count = 10\n",
    "for i in range(1,6):\n",
    "    for j in range(1,88):\n",
    "        count = 10\n",
    "        for index,row in df.iterrows():\n",
    "            #print(row[9],row[8])\n",
    "            if count == 0: \n",
    "                break\n",
    "            if row[9] == i and row[8] == j:\n",
    "                newrow = {'ID':row[0],'DBA':row[1], 'BUILDING':row[2],'STREET':row[3],'ZIPCODE':row[4],'PHONE':row[5],'LATITUDE':row[6],'LONGITUDE':row[7],'CUISINE':row[8],'BORO':row[9]}\n",
    "                newdf.loc[-1] = newrow\n",
    "                newdf.index = newdf.index + 1\n",
    "                newdf = newdf.sort_index()\n",
    "                count-=1\n",
    "        \n",
    "            "
   ]
  },
  {
   "cell_type": "code",
   "execution_count": 32,
   "metadata": {},
   "outputs": [],
   "source": [
    "newdf.to_csv('test.csv')"
   ]
  },
  {
   "cell_type": "code",
   "execution_count": 31,
   "metadata": {},
   "outputs": [
    {
     "name": "stdout",
     "output_type": "stream",
     "text": [
      "      ID                           DBA BUILDING             STREET  ZIPCODE  \\\n",
      "0  12582  CHIPOTLE MEXICAN GRILL #2308     2602    HYLAN BOULEVARD  10306.0   \n",
      "1  56307                     TACO BELL     2259    RICHMOND AVENUE  10314.0   \n",
      "2  74487                  BURRITO SPOT     1903  VICTORY BOULEVARD  10314.0   \n",
      "\n",
      "        PHONE   LATITUDE  LONGITUDE  CUISINE  BORO  \n",
      "0  7189801742  40.568935 -74.111289       87     5  \n",
      "1  9294732601  40.592274 -74.163634       87     5  \n",
      "2  7184470557  40.612722 -74.127411       87     5  \n"
     ]
    }
   ],
   "source": [
    "print(newdf.head(3))"
   ]
  }
 ],
 "metadata": {
  "kernelspec": {
   "display_name": "base",
   "language": "python",
   "name": "python3"
  },
  "language_info": {
   "codemirror_mode": {
    "name": "ipython",
    "version": 3
   },
   "file_extension": ".py",
   "mimetype": "text/x-python",
   "name": "python",
   "nbconvert_exporter": "python",
   "pygments_lexer": "ipython3",
   "version": "3.8.3 (default, Jul  2 2020, 11:26:31) \n[Clang 10.0.0 ]"
  },
  "orig_nbformat": 4,
  "vscode": {
   "interpreter": {
    "hash": "3d0479c17103c1bb878001f04c73e16f292eacec68e799eb17aed9d3ca3b1a77"
   }
  }
 },
 "nbformat": 4,
 "nbformat_minor": 2
}
