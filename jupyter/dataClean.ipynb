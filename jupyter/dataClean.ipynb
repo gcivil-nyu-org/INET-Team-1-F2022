{
 "cells": [
  {
   "cell_type": "code",
   "execution_count": 25,
   "metadata": {},
   "outputs": [],
   "source": [
    "import pandas as pd\n",
    "data = pd.read_csv(\"/Users/kylinmao/Desktop/new_restaurant.csv\")\n",
    "\n",
    "cusine_data = pd.read_csv(\"/Users/kylinmao/Desktop/cuisine.csv\")\n",
    "\n",
    "key = []\n",
    "val = []\n",
    "for i in cusine_data['cusine']:\n",
    "    key.append(i)\n",
    "for i in cusine_data['id']:\n",
    "    val.append(i)\n",
    "\n",
    "cusine_dic = dict(zip(key,val))\n",
    "\n",
    "import pandas as pd\n",
    "data = pd.read_csv(\"/Users/kylinmao/Desktop/new_restaurant.csv\")\n",
    "data.rename(columns={'CUISINE DESCRIPTION':'CUSINE'}, inplace = True)\n",
    "data.info()\n",
    "\n",
    "data['CUSINE'] = data['CUSINE'].map(cusine_dic)\n",
    "\n",
    "print(data['CUSINE'])\n",
    "\n",
    "boro_dic = {'Manhattan':1,'Brooklyn':2,'Bronx':3,'Queens':4,'Staten Island':5}\n",
    "\n",
    "data['BORO'] = data['BORO'].map(boro_dic)\n",
    "\n",
    "data[\"BORO\"] = data[\"BORO\"].astype('Int32')\n",
    "print(data.head(10))\n",
    "\n",
    "data.to_csv(\"the_new_restaurant.csv\")"
   ]
  },
  {
   "cell_type": "code",
   "execution_count": 5,
   "metadata": {},
   "outputs": [
    {
     "name": "stdout",
     "output_type": "stream",
     "text": [
      "4\n",
      "7\n",
      "9\n",
      "11\n",
      "13\n",
      "16\n",
      "17\n",
      "18\n",
      "22\n",
      "24\n",
      "26\n",
      "27\n",
      "28\n",
      "33\n",
      "35\n",
      "37\n",
      "39\n",
      "44\n",
      "47\n",
      "48\n",
      "50\n",
      "51\n",
      "59\n",
      "60\n",
      "61\n",
      "63\n",
      "68\n",
      "69\n",
      "73\n",
      "76\n",
      "77\n",
      "78\n",
      "79\n",
      "85\n",
      "86\n"
     ]
    }
   ],
   "source": [
    "import pandas as pd\n",
    "data = pd.read_csv(\"/Users/kylinmao/Desktop/test.csv\")\n",
    "ls = []\n",
    "for i in data['CUSINE']:\n",
    "    ls.append(i)\n",
    "for i in range(1,88):\n",
    "    if i not in ls:\n",
    "        print(i)"
   ]
  },
  {
   "cell_type": "code",
   "execution_count": null,
   "metadata": {},
   "outputs": [],
   "source": []
  }
 ],
 "metadata": {
  "kernelspec": {
   "display_name": "Python 3 (ipykernel)",
   "language": "python",
   "name": "python3"
  },
  "language_info": {
   "codemirror_mode": {
    "name": "ipython",
    "version": 3
   },
   "file_extension": ".py",
   "mimetype": "text/x-python",
   "name": "python",
   "nbconvert_exporter": "python",
   "pygments_lexer": "ipython3",
   "version": "3.8.3"
  },
  "vscode": {
   "interpreter": {
    "hash": "3d0479c17103c1bb878001f04c73e16f292eacec68e799eb17aed9d3ca3b1a77"
   }
  }
 },
 "nbformat": 4,
 "nbformat_minor": 2
}
